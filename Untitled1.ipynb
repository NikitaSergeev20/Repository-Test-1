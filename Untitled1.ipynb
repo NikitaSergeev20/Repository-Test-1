{
  "nbformat": 4,
  "nbformat_minor": 0,
  "metadata": {
    "colab": {
      "name": "Untitled1.ipynb",
      "provenance": [],
      "collapsed_sections": [],
      "include_colab_link": true
    },
    "kernelspec": {
      "name": "python3",
      "display_name": "Python 3"
    }
  },
  "cells": [
    {
      "cell_type": "markdown",
      "metadata": {
        "id": "view-in-github",
        "colab_type": "text"
      },
      "source": [
        "<a href=\"https://colab.research.google.com/github/NikitaSergeev20/Repository-Test-1/blob/master/Untitled1.ipynb\" target=\"_parent\"><img src=\"https://colab.research.google.com/assets/colab-badge.svg\" alt=\"Open In Colab\"/></a>"
      ]
    },
    {
      "cell_type": "code",
      "metadata": {
        "id": "6HTk5JwTKzlF",
        "colab_type": "code",
        "colab": {}
      },
      "source": [
        ""
      ],
      "execution_count": 0,
      "outputs": []
    },
    {
      "cell_type": "markdown",
      "metadata": {
        "id": "sf8zgIWBLBY-",
        "colab_type": "text"
      },
      "source": [
        "# Первый блокнот\n",
        "Первый учебный блокнот в Google Colab. Список группы:\n",
        "- Сергеев\n",
        "- Сороковиков"
      ]
    },
    {
      "cell_type": "markdown",
      "metadata": {
        "id": "4SHEQ8NvNSxZ",
        "colab_type": "text"
      },
      "source": [
        "![alt text](https://upload.wikimedia.org/wikipedia/commons/thumb/3/39/%D0%9B%D0%BE%D0%B3%D0%BE%D1%82%D0%B8%D0%BF_%D0%9D%D0%93%D0%A2%D0%A3_%D0%9D%D0%AD%D0%A2%D0%98.png/800px-%D0%9B%D0%BE%D0%B3%D0%BE%D1%82%D0%B8%D0%BF_%D0%9D%D0%93%D0%A2%D0%A3_%D0%9D%D0%AD%D0%A2%D0%98.png)\n"
      ]
    },
    {
      "cell_type": "markdown",
      "metadata": {
        "id": "yBXQp1MYQbCL",
        "colab_type": "text"
      },
      "source": [
        "\n",
        "123\n",
        "\n",
        "---\n",
        "\n",
        "\n",
        "123\n",
        "\n",
        "---\n",
        "\n"
      ]
    }
  ]
}