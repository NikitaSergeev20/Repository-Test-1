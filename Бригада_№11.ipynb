{
  "nbformat": 4,
  "nbformat_minor": 0,
  "metadata": {
    "colab": {
      "name": "Бригада №11.ipynb",
      "provenance": [],
      "collapsed_sections": []
    },
    "kernelspec": {
      "name": "python3",
      "display_name": "Python 3"
    }
  },
  "cells": [
    {
      "cell_type": "code",
      "metadata": {
        "id": "6HTk5JwTKzlF",
        "colab_type": "code",
        "colab": {}
      },
      "source": [
        ""
      ],
      "execution_count": 0,
      "outputs": []
    },
    {
      "cell_type": "markdown",
      "metadata": {
        "id": "sf8zgIWBLBY-",
        "colab_type": "text"
      },
      "source": [
        "# Первый блокнот\n",
        "Первый учебный блокнот в Google Colab. Список группы:\n",
        "- Сергеев\n",
        "- Сороковиков"
      ]
    },
    {
      "cell_type": "markdown",
      "metadata": {
        "id": "4SHEQ8NvNSxZ",
        "colab_type": "text"
      },
      "source": [
        "![alt text](https://thumb.tildacdn.com/tild3361-3365-4933-a633-306633623638/-/format/webp/Logo_001_2.jpg)\n"
      ]
    },
    {
      "cell_type": "markdown",
      "metadata": {
        "id": "yBXQp1MYQbCL",
        "colab_type": "text"
      },
      "source": [
        "|Фамилия|Имя|\n",
        "|:-----:|:-----:|\n",
        "|Сергеев|Никита|\n",
        "|Сороковиков|Андрей| "
      ]
    },
    {
      "cell_type": "markdown",
      "metadata": {
        "id": "FAGWd834TRfT",
        "colab_type": "text"
      },
      "source": [
        "Вот [тут](https://www.youtube.com/channel/UC9A_XM5i836MXE0b28gdbcQ) мы смотрим наши лекции"
      ]
    }
  ]
}